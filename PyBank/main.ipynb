{
 "cells": [
  {
   "cell_type": "code",
   "execution_count": 1,
   "id": "1e0b2f3b-8e95-4399-844a-02069a70168a",
   "metadata": {},
   "outputs": [],
   "source": [
    "# Import the pathlib and csv library\n",
    "from pathlib import Path\n",
    "import csv"
   ]
  },
  {
   "cell_type": "code",
   "execution_count": 2,
   "id": "ecdb1868-79af-4d8b-80ba-4f68f44f00a5",
   "metadata": {},
   "outputs": [],
   "source": [
    "# Set the file path\n",
    "csvpath = Path('Resources/budget_data.csv')\n",
    "output_path = Path('financial_analysis.txt')"
   ]
  },
  {
   "cell_type": "code",
   "execution_count": 3,
   "id": "29f45778-e9c8-4d02-a862-546a7c25277c",
   "metadata": {},
   "outputs": [],
   "source": [
    "# Initialize variables\n",
    "months = 0\n",
    "total = 0\n",
    "data = []"
   ]
  },
  {
   "cell_type": "code",
   "execution_count": 4,
   "id": "ae3d9c7a-dd81-4668-8d65-1a5e29018d4f",
   "metadata": {},
   "outputs": [],
   "source": [
    "# Open the input path as a file object\n",
    "with open(csvpath, 'r') as csvfile:\n",
    "    # Pass in the csv file to the csv.reader() function\n",
    "    # (with ',' as the delmiter/separator) and return the csvreader object\n",
    "    csvreader = csv.reader(csvfile, delimiter=',')\n",
    "\n",
    "    # Go to the next row from the start of the file\n",
    "    header = next(csvreader)\n",
    "    \n",
    "    # Print the header\n",
    "    #print(f\"{header} <---- HEADER\")\n",
    "\n",
    "    # Read each row of data after the header\n",
    "    for row in csvreader:\n",
    "        # Print the row\n",
    "        # print(row)\n",
    "        # Set variables equal to the value in each column of each row\n",
    "        amount = int(row[1])\n",
    "        datarow = { \"date\" : row[0], \"amount\" : amount}\n",
    "        # Append the row value to the list\n",
    "        data.append(datarow)\n",
    "        months += 1\n",
    "        total += amount"
   ]
  },
  {
   "cell_type": "code",
   "execution_count": 5,
   "id": "992bd815-0a17-49c6-8f18-91c6c965cfd7",
   "metadata": {},
   "outputs": [],
   "source": [
    "#initialize \n",
    "greatest_increase = { \"date\" : \"\", \"amount\" : 0 }\n",
    "greatest_decrease = { \"date\" : \"\", \"amount\" : 0 }"
   ]
  },
  {
   "cell_type": "code",
   "execution_count": 6,
   "id": "b287e347-ad6a-4385-8cf3-0a700985c472",
   "metadata": {},
   "outputs": [],
   "source": [
    "#Average\n",
    "average = round(total / months, 2)"
   ]
  },
  {
   "cell_type": "code",
   "execution_count": 7,
   "id": "87f897d7-41e9-4f96-b868-c25b7c20f464",
   "metadata": {},
   "outputs": [],
   "source": [
    "#Intialize to max/min first element\n",
    "max_value = data[0][\"amount\"]\n",
    "min_value = data[0][\"amount\"]"
   ]
  },
  {
   "cell_type": "code",
   "execution_count": 8,
   "id": "6a425ce5-4ebf-4c02-90d3-b401666df202",
   "metadata": {},
   "outputs": [],
   "source": [
    "#Find greatest increase\n",
    "for d in data:\n",
    "    if d[\"amount\"] > max_value:\n",
    "        max_value = d[\"amount\"]\n",
    "        greatest_increase[\"date\"] = d[\"date\"] \n",
    "        greatest_increase[\"amount\"] = d[\"amount\"]"
   ]
  },
  {
   "cell_type": "code",
   "execution_count": 9,
   "id": "b33b6793-ada0-49fb-b5e8-64bee1da25d5",
   "metadata": {},
   "outputs": [],
   "source": [
    "#Find greatest decrease\n",
    "for d in data:\n",
    "    if d[\"amount\"] < min_value:\n",
    "        min_value = d[\"amount\"]\n",
    "        greatest_decrease[\"date\"] = d[\"date\"] \n",
    "        greatest_decrease[\"amount\"] = d[\"amount\"]"
   ]
  },
  {
   "cell_type": "code",
   "execution_count": 10,
   "id": "33afb5f4-62e0-4d10-8b8b-3d2df4376ff0",
   "metadata": {},
   "outputs": [],
   "source": [
    "def print_and_write(file, text):\n",
    "    print(text)\n",
    "    file.write(text + \"\\n\")"
   ]
  },
  {
   "cell_type": "code",
   "execution_count": 11,
   "id": "0ce69152-c698-4783-ad57-f8b87dc9a7a0",
   "metadata": {},
   "outputs": [
    {
     "name": "stdout",
     "output_type": "stream",
     "text": [
      "  Financial Analysis\n",
      "  ----------------------------\n",
      "  Total Months: 86\n",
      "  Total: $38382578.00\n",
      "  Average  Change: $446309.05\n",
      "  Greatest Increase in Profits: Feb-2012 ($1170593.00)\n",
      "  Greatest Decrease in Profits: Sep-2013 ($-1196225.00)\n"
     ]
    }
   ],
   "source": [
    "#print the analysis to the terminal         \n",
    "#export a text file with the results\n",
    "with open(output_path, 'w') as file:\n",
    "    print_and_write(file, f\"  Financial Analysis\")\n",
    "    print_and_write(file, f\"  ----------------------------\")\n",
    "    print_and_write(file, f\"  Total Months: {months}\")\n",
    "    print_and_write(file, f\"  Total: ${total:.2f}\")\n",
    "    print_and_write(file, f\"  Average  Change: ${average:.2f}\")\n",
    "    print_and_write(file, f\"  Greatest Increase in Profits: {greatest_increase['date']} (${round(greatest_increase['amount'], 2):.2f})\")\n",
    "    print_and_write(file, f\"  Greatest Decrease in Profits: {greatest_decrease['date']} (${round(greatest_decrease['amount'], 2):.2f})\")"
   ]
  },
  {
   "cell_type": "code",
   "execution_count": null,
   "id": "5cb6fa2f-6f92-42f7-814b-c24fbd29a032",
   "metadata": {},
   "outputs": [],
   "source": []
  }
 ],
 "metadata": {
  "kernelspec": {
   "display_name": "dev",
   "language": "python",
   "name": "dev"
  },
  "language_info": {
   "codemirror_mode": {
    "name": "ipython",
    "version": 3
   },
   "file_extension": ".py",
   "mimetype": "text/x-python",
   "name": "python",
   "nbconvert_exporter": "python",
   "pygments_lexer": "ipython3",
   "version": "3.7.13"
  }
 },
 "nbformat": 4,
 "nbformat_minor": 5
}
