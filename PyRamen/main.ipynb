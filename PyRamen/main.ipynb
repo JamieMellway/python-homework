{
 "cells": [
  {
   "cell_type": "code",
   "execution_count": 1,
   "id": "80f73cf1-820d-492d-a437-7539a0095882",
   "metadata": {},
   "outputs": [],
   "source": [
    "# Import libraries\n",
    "import csv\n",
    "from pathlib import Path"
   ]
  },
  {
   "cell_type": "code",
   "execution_count": 2,
   "id": "735c8064-3307-4afd-9d69-7316dfbd01eb",
   "metadata": {},
   "outputs": [],
   "source": [
    "# Set file paths for menu_data.csv and sales_data.csv\n",
    "menu_filepath = Path('Resources/menu_data.csv')\n",
    "sales_filepath = Path('Resources/sales_data.csv')\n",
    "output_path = Path('report.txt')"
   ]
  },
  {
   "cell_type": "code",
   "execution_count": null,
   "id": "37f61269-757c-4fdc-8ea0-4bfd564788ba",
   "metadata": {},
   "outputs": [],
   "source": [
    "# Initialize list objects to hold our menu and sales data\n",
    "menu = []\n",
    "sales = []"
   ]
  },
  {
   "cell_type": "code",
   "execution_count": null,
   "id": "aa61b01a-cd86-4fc8-a4a0-3e76025fbdef",
   "metadata": {},
   "outputs": [],
   "source": [
    "# Read in the menu data into the menu list\n",
    "# Open the input path as a file object\n",
    "with open(menu_filepath, 'r') as csvfile:\n",
    "    # Pass in the csv file to the csv.reader() function\n",
    "    # (with ',' as the delmiter/separator) and return the csvreader object\n",
    "    csvreader = csv.reader(csvfile, delimiter=',')\n",
    "\n",
    "    # Go to the next row from the start of the file\n",
    "    # (which is often the first row/header) and iterate line_num by 1\n",
    "    header = next(csvreader)\n",
    "    \n",
    "    # Read each row of data after the header\n",
    "    for row in csvreader:\n",
    "        price = float(row[3])\n",
    "        cost = int(row[4])\n",
    "        datarow = { \n",
    "            \"item\" : row[0], \n",
    "            \"category\" : row[1], \n",
    "            \"description\": row[2], \n",
    "            \"price\" : price, \n",
    "            \"cost\" : cost }\n",
    "        # Append the row salary value to the list\n",
    "        menu.append(datarow)"
   ]
  },
  {
   "cell_type": "code",
   "execution_count": null,
   "id": "55fcde8b-e2b1-4fb2-b729-d1397a1599b5",
   "metadata": {},
   "outputs": [],
   "source": [
    "# Read in the sales data into the sales list\n",
    "# Open the input path as a file object\n",
    "with open(sales_filepath, 'r') as csvfile:\n",
    "    # Pass in the csv file to the csv.reader() function\n",
    "    # (with ',' as the delmiter/separator) and return the csvreader object\n",
    "    csvreader = csv.reader(csvfile, delimiter=',')\n",
    "\n",
    "    # Go to the next row from the start of the file\n",
    "    # (which is often the first row/header) and iterate line_num by 1\n",
    "    header = next(csvreader)\n",
    "    \n",
    "    # Read each row of data after the header\n",
    "    for row in csvreader:\n",
    "        datarow = { \n",
    "            \"Line_Item_ID\" : int(row[0]), \n",
    "            \"Date\" : row[1], \n",
    "            \"Credit_Card_Number\": int(row[2]), \n",
    "            \"Quantity\" : int(row[3]),\n",
    "            \"Menu_Item\" : row[4]\n",
    "        }\n",
    "        # Append the row value to the list\n",
    "        sales.append(datarow)"
   ]
  },
  {
   "cell_type": "code",
   "execution_count": null,
   "id": "50cd8333-a2eb-4229-8c7f-4a4d1ff45670",
   "metadata": {},
   "outputs": [],
   "source": [
    "# Initialize dict object to hold our key-value pairs of items and metrics\n",
    "report = {}"
   ]
  },
  {
   "cell_type": "code",
   "execution_count": null,
   "id": "ab8b150d-b695-4c05-9ea6-619d246e544b",
   "metadata": {},
   "outputs": [],
   "source": [
    "# Initialize a row counter variable\n",
    "row_count = 0"
   ]
  },
  {
   "cell_type": "code",
   "execution_count": null,
   "id": "d5b9d79c-88dc-4037-869d-b767ac359185",
   "metadata": {},
   "outputs": [],
   "source": [
    "# Loop over every row in the sales list object\n",
    "for s in sales:\n",
    "\n",
    "    # Line_Item_ID,Date,Credit_Card_Number,Quantity,Menu_Item\n",
    "    # Initialize sales data variables\n",
    "    count = 0\n",
    "    revenue = 0\n",
    "    cogs = 0\n",
    "    profit = 0\n",
    "\n",
    "    # If the item value not in the report, add it as a new entry with initialized metrics\n",
    "    # Naming convention allows the keys to be ordered in logical fashion, count, revenue, cost, profit\n",
    "    sales_item = s[\"Menu_Item\"]\n",
    "    if sales_item not in report.keys():\n",
    "        report_item = {}\n",
    "        report_item[\"01-count\"] = count\n",
    "        report_item[\"02-revenue\"] = revenue\n",
    "        report_item[\"03-cogs\"] = cogs\n",
    "        report_item[\"04-profit\"] = profit\n",
    "        #print(report_item)\n",
    "        report[sales_item] = report_item\n",
    "\n",
    "    # For every row in our sales data, loop over the menu records to determine a match\n",
    "    for m in menu:\n",
    "        # Item,Category,Description,Price,Cost\n",
    "        # Initialize menu data variables\n",
    "        item = m[\"item\"]\n",
    "        item_price = m[\"price\"]\n",
    "        item_cost = m[\"cost\"] \n",
    "        item_catgory = m[\"category\"]\n",
    "\n",
    "        # Calculate profit of each item in the menu data\n",
    "        item_profit = item_price - item_cost \n",
    "\n",
    "        # If the item value in our sales data is equal to the any of the items in the menu, then begin tracking metrics for that item\n",
    "        if item == sales_item:\n",
    "\n",
    "            # Print out matching menu data\n",
    "            print_item = s.copy()\n",
    "            print_item[\"category\"] = m[\"category\"]\n",
    "            print_item[\"description\"] = m[\"description\"]\n",
    "            print_item[\"price\"] = m[\"price\"] \n",
    "            print_item[\"cost\"] = m[\"cost\"]\n",
    "            print(print_item)\n",
    "\n",
    "            # Cumulatively add up the metrics for each item key\n",
    "            count += s[\"Quantity\"]\n",
    "            revenue += item_price * s[\"Quantity\"]\n",
    "            cogs += item_cost * s[\"Quantity\"]\n",
    "            profit += item_profit * s[\"Quantity\"]\n",
    "            \n",
    "            #update report\n",
    "            report[sales_item][\"01-count\"] += count\n",
    "            report[sales_item][\"02-revenue\"] += revenue\n",
    "            report[sales_item][\"03-cogs\"] += cogs\n",
    "            report[sales_item][\"04-profit\"] += profit\n",
    "            #print(report[Line_Item_ID])\n",
    "\n",
    "        # Else, the sales item does not equal any fo the item in the menu data, therefore no match\n",
    "        else:\n",
    "            pass\n",
    "            print (f\"{sales_item} does not equal {item}! NO MATCH!\")\n",
    "\n",
    "    # Increment the row counter by 1\n",
    "    row_count += 1"
   ]
  },
  {
   "cell_type": "code",
   "execution_count": null,
   "id": "50235fef-704b-4f1a-8c25-9dc7cb1878e8",
   "metadata": {},
   "outputs": [],
   "source": [
    "# Print total number of records in sales data\n",
    "print (row_count)"
   ]
  },
  {
   "cell_type": "code",
   "execution_count": null,
   "id": "b343c3e1-df5d-4d5a-a73e-026b8efb6896",
   "metadata": {},
   "outputs": [],
   "source": [
    "# Write out report to a text file (won't appear on the command line output)\n",
    "def write_to_file(file, text):\n",
    "    #print(text)#\n",
    "    file.write(text + \"\\n\")"
   ]
  },
  {
   "cell_type": "code",
   "execution_count": null,
   "id": "e619d931-d061-443e-87e6-d8a4c7a32372",
   "metadata": {},
   "outputs": [],
   "source": [
    "#print the analysis to the terminal         \n",
    "#export a text file with the results\n",
    "with open(output_path, 'w') as file:\n",
    "    for r in report:\n",
    "        write_to_file(file, r + \" \" + str(report[r]))"
   ]
  },
  {
   "cell_type": "code",
   "execution_count": null,
   "id": "89a5f3bb-52d7-4cea-866f-1d3826e7e177",
   "metadata": {},
   "outputs": [],
   "source": []
  }
 ],
 "metadata": {
  "kernelspec": {
   "display_name": "dev",
   "language": "python",
   "name": "dev"
  },
  "language_info": {
   "codemirror_mode": {
    "name": "ipython",
    "version": 3
   },
   "file_extension": ".py",
   "mimetype": "text/x-python",
   "name": "python",
   "nbconvert_exporter": "python",
   "pygments_lexer": "ipython3",
   "version": "3.7.13"
  }
 },
 "nbformat": 4,
 "nbformat_minor": 5
}
